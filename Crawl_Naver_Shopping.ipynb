{
 "cells": [
  {
   "cell_type": "code",
   "execution_count": 1,
   "metadata": {},
   "outputs": [],
   "source": [
    "import requests \n",
    "import os\n",
    "import re\n",
    "from collections import defaultdict\n",
    "from copy import deepcopy\n",
    "import pickle\n",
    "import pandas as pd\n",
    "import numpy as np\n",
    "import time\n",
    "\n",
    "from bs4 import BeautifulSoup\n",
    "from selenium import webdriver\n",
    "from selenium.webdriver.common.keys import Keys\n",
    "from selenium.webdriver.common.by import By\n",
    "from selenium.webdriver.common.action_chains import ActionChains\n",
    "from selenium.webdriver.support import expected_conditions as EC\n",
    "from selenium.webdriver.support.ui import WebDriverWait\n",
    "from selenium.common.exceptions import NoSuchElementException, ElementNotInteractableException, ElementClickInterceptedException, StaleElementReferenceException"
   ]
  },
  {
   "cell_type": "code",
   "execution_count": 2,
   "metadata": {},
   "outputs": [],
   "source": [
    "from Crawl_Naver_Shopping import *\n",
    "import pickle"
   ]
  },
  {
   "cell_type": "code",
   "execution_count": 5,
   "metadata": {},
   "outputs": [],
   "source": [
    "crawl = Crawl_Naver_Shopping(list_type = \"가격비교\")"
   ]
  },
  {
   "cell_type": "code",
   "execution_count": null,
   "metadata": {},
   "outputs": [],
   "source": [
    "crawl.get_product_infos_from_query(queries = [\"27ART10AKPL\", \"KU50UA7050FXKR\", \"W20WAN\"])"
   ]
  },
  {
   "cell_type": "code",
   "execution_count": 3,
   "metadata": {},
   "outputs": [],
   "source": [
    "with open(\"category_ids_220721.pkl\", \"rb\") as f:\n",
    "    unq_category_ids = pickle.load(f)\n",
    "\n",
    "with open(\"category_levels_220721.pkl\", \"rb\") as f:\n",
    "    unq_category_levels = pickle.load(f)"
   ]
  },
  {
   "cell_type": "code",
   "execution_count": 4,
   "metadata": {},
   "outputs": [],
   "source": [
    "# 스탠드 제품 코드 추가\n",
    "stand_ids = [\"50003330\", \"50003331\"]\n",
    "stand_levels = [[\"가구/인테리어\", \"조명/스탠드\", \"스탠드\", \"단스탠드\"], \n",
    " [\"가구/인테리어\", \"조명/스탠드\", \"스탠드\", \"장스탠드\"]]\n",
    "\n",
    "unq_category_ids.extend(stand_ids)\n",
    "unq_category_levels.extend(stand_levels)"
   ]
  },
  {
   "cell_type": "code",
   "execution_count": 5,
   "metadata": {},
   "outputs": [
    {
     "name": "stdout",
     "output_type": "stream",
     "text": [
      "length of sample category list : 136\n"
     ]
    }
   ],
   "source": [
    "category_list = [\"LEDTV\", \"OLEDTV\", \"LCDTV\", \"QLEDTV\", \"DLP\", \"LCD\", \"LCoS/기타\", \n",
    "\"퍼스널뷰어\", \"블루레이플레이어\", \"사운드바시스템\", \"단일형홈시어터\", \n",
    "\"조합형홈시어터\", \"일체형오디오\", \"스피커단품\", \"스피커세트\", \"블루투스스피커\", \n",
    "\"블루투스이어폰/이어셋\", \"블루투스헤드폰/헤드셋\", \"이어폰\", \"헤드폰\", \n",
    "\"일반세탁기\", \"드럼세탁기\", \"미니세탁기\", \"세탁기+건조기\", \"의류건조기\", \n",
    "\"신발건조기\", \"탈수기\", \"유선청소기\", \"무선청소기\", \"스팀청소기\", \n",
    "\"로봇청소기\", \"물걸레청소기\", \"연수기\", \"단스탠드\", \"장스탠드\", \"의류관리기\", \n",
    "\"스팀다리미\", \"보풀제거기\", \"전동칫솔\", \"구강세정기\", \"칫솔살균기\", \n",
    "\"전신건조기\", \"드라이어\", \"고데기\", \"매직기\", \"에어브러시\", \"남성용면도기\", \n",
    "\"여성용면도기\", \"두피케어기기\", \"제모기\", \"양문형냉장고\", \"일반형냉장고\", \n",
    "\"스탠드형\", \"냉동고\", \"와인냉장고\", \"화장품냉장고\", \"쌀냉장고\", \"제빙기\", \n",
    "\"일반가스레인지\", \"일반밥솥\", \"전자레인지\", \"전기오븐\", \"복합형오븐\", \"인덕션\",\n",
    "\"핫플레이트\", \"하이라이트\", \"하이브리드\", \"식기세척기\", \"식기건조기\", \"무선포트\", \n",
    "\"유선포트\", \"냉정수기\", \"냉온정수기\", \"에스프레소머신\", \"캡슐/POD머신\", \n",
    "\"팝업토스터기\", \"오븐토스터기\", \"음식물처리기\", \"제빵기\", \"거품/반죽기\", \n",
    "\"전기그릴\", \"생선그릴\", \"쥬서기/녹즙기\", \"핸드블렌더\", \"슬로우쿠커\", \"전기냄비\", \n",
    "\"전기찜기\", \"튀김기\", \"전기팬\", \"샌드위치제조기\", \"와플제조기\", \"탄산수제조기\", \n",
    "\"에어프라이어\", \"믹서기\", \"전기담요\", \"전기방석\", \"전기요\", \"황토매트\", \"카페트매트\", \n",
    "\"옥매트\", \"기타전기매트\", \"전기장판\", \"전기온풍기\", \"가스온풍기\", \"석유온풍기\", \"돈풍기\", \n",
    "\"가스보일러\", \"석유보일러\", \"전기보일러\", \"전기온수기\", \"가스온수기\", \"라디에이터\", \n",
    "\"컨벡터\", \"스탠드형에어컨\", \"벽걸이형에어컨\", \"멀티형에어컨\", \"창문형에어컨\", \"일반용제습기\", \n",
    "\"냉온풍기\", \"자연식가습기\", \"가열식가습기\", \"초음파식가습기\", \"복합식가습기\", \"공기청정기\", \n",
    "\"에어워셔\", \"일반용냉풍기\", \"스탠드형선풍기\", \"탁상형선풍기\", \"휴대용선풍기\", \"천장형선풍기\", \n",
    "\"전기히터\", \"석유히터\", \"가스히터\", \"연탄/화목난로\", \"안마의자\", \"안마기\"]\n",
    "print(f\"length of sample category list : {len(category_list)}\")"
   ]
  },
  {
   "cell_type": "code",
   "execution_count": 6,
   "metadata": {},
   "outputs": [
    {
     "name": "stdout",
     "output_type": "stream",
     "text": [
      "length of sample cat ids : 138\n",
      "length of sample cat levels : 138\n"
     ]
    }
   ],
   "source": [
    "sample_cat_ids = [unq_category_ids[i] for i, x in enumerate(unq_category_levels) if x[-1] in category_list]\n",
    "print(f\"length of sample cat ids : {len(sample_cat_ids)}\")\n",
    "sample_cat_levels = [x for i, x in enumerate(unq_category_levels) if x[-1] in category_list]\n",
    "print(f\"length of sample cat levels : {len(sample_cat_levels)}\")"
   ]
  },
  {
   "cell_type": "code",
   "execution_count": 7,
   "metadata": {},
   "outputs": [
    {
     "name": "stdout",
     "output_type": "stream",
     "text": [
      "length of sample cat ids : 142\n",
      "length of sample cat levels : 142\n"
     ]
    }
   ],
   "source": [
    "sample_cat_ids.extend(['50000151', '50000089', '50000088', '50000152'])\n",
    "sample_cat_levels.extend([\"['디지털/가전', '노트북']'\", \"['디지털/가전', 'PC']\", \"['디지털/가전', '게임기/타이틀']\", \"['디지털/가전', '태블릿PC']\"])\n",
    "print(f\"length of sample cat ids : {len(sample_cat_ids)}\")\n",
    "print(f\"length of sample cat levels : {len(sample_cat_levels)}\")"
   ]
  },
  {
   "cell_type": "code",
   "execution_count": null,
   "metadata": {},
   "outputs": [],
   "source": [
    "crawl = Crawl_Naver_Shopping(list_type=\"가격비교\")\n",
    "crawl_result = crawl.get_product_infos_in_category(cat_ids = unq_category_ids, cat_levels = unq_category_levels)"
   ]
  },
  {
   "cell_type": "code",
   "execution_count": 7,
   "metadata": {},
   "outputs": [],
   "source": [
    "pd.DataFrame(crawl_result).to_excel(\"네이버_쇼핑_크롤링_220426.xlsx\", index =False)"
   ]
  },
  {
   "cell_type": "code",
   "execution_count": 6,
   "metadata": {},
   "outputs": [],
   "source": [
    "light_stand_df = pd.read_excel(\"조명_스탠드_수집_220401.xlsx\")\n",
    "digital_df  = pd.read_excel(\"가전_디지털_220401.xlsx\")"
   ]
  },
  {
   "cell_type": "code",
   "execution_count": 7,
   "metadata": {},
   "outputs": [],
   "source": [
    "product_data = pd.concat([digital_df.drop_duplicates(\"id\"), light_stand_df.drop_duplicates(\"id\")], axis = 0)"
   ]
  },
  {
   "cell_type": "code",
   "execution_count": 10,
   "metadata": {},
   "outputs": [],
   "source": [
    "# pd_crawl_result = pd.DataFrame(crawl_result)\n",
    "product_data = product_data[['searchCategoryId', 'searchCategoryName', 'id', 'productName', 'scoreInfo', 'category1Id', 'category2Id',\n",
    "                             'category3Id', 'category4Id', 'category1Name', 'category2Name',\n",
    "                             'category3Name', 'category4Name', 'maker', 'makerNo', 'brand',\n",
    "                             'brandNo', 'price', 'priceUnit', 'lnchYm', 'productAttr', 'imageName', 'crUrl', 'imageUrl']]"
   ]
  },
  {
   "cell_type": "code",
   "execution_count": null,
   "metadata": {},
   "outputs": [],
   "source": [
    "product_data.to_excel(\"네이버_쇼핑_크롤링_220404.xlsx\", index = False)"
   ]
  }
 ],
 "metadata": {
  "kernelspec": {
   "display_name": "Python 3.8.10 64-bit",
   "language": "python",
   "name": "python3"
  },
  "language_info": {
   "codemirror_mode": {
    "name": "ipython",
    "version": 3
   },
   "file_extension": ".py",
   "mimetype": "text/x-python",
   "name": "python",
   "nbconvert_exporter": "python",
   "pygments_lexer": "ipython3",
   "version": "3.8.10"
  },
  "orig_nbformat": 4,
  "vscode": {
   "interpreter": {
    "hash": "31f2aee4e71d21fbe5cf8b01ff0e069b9275f58929596ceb00d14d90e3e16cd6"
   }
  }
 },
 "nbformat": 4,
 "nbformat_minor": 2
}
