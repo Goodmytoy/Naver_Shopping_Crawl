{
 "cells": [
  {
   "cell_type": "code",
   "execution_count": 1,
   "metadata": {},
   "outputs": [],
   "source": [
    "%load_ext autoreload\n",
    "%autoreload 2\n",
    "from Crawl_Naver_Shopping import *\n",
    "import pickle\n",
    "from lxml import etree\n",
    "import urllib3\n",
    "\n",
    "urllib3.disable_warnings(urllib3.exceptions.InsecureRequestWarning)"
   ]
  },
  {
   "cell_type": "code",
   "execution_count": 2,
   "metadata": {},
   "outputs": [],
   "source": [
    "category_df = pd.read_excel(\"수집_대상_카테고리.xlsx\")"
   ]
  },
  {
   "cell_type": "code",
   "execution_count": 3,
   "metadata": {},
   "outputs": [],
   "source": [
    "category_df[\"cat_levels\"] = category_df[\"category1\"].fillna(\"\") + \">\" +  category_df[\"category2\"].fillna(\"\") + \">\" + category_df[\"category3\"].fillna(\"\") + \">\" + category_df[\"category4\"].fillna(\"\")"
   ]
  },
  {
   "cell_type": "code",
   "execution_count": 4,
   "metadata": {},
   "outputs": [
    {
     "data": {
      "text/plain": [
       "0                   디지털/가전>노트북>>\n",
       "1                    디지털/가전>PC>>\n",
       "2                   디지털/가전>모니터>>\n",
       "3                디지털/가전>영상가전>TV>\n",
       "4              디지털/가전>영상가전>프로젝터>\n",
       "                 ...            \n",
       "188    디지털/가전>생활가전>건조기/탈수기>신발건조기\n",
       "189       출산/육아>육아발육용품>바운서/흔들침대>\n",
       "190             출산/육아>수유용품>보틀워머>\n",
       "191        생활/건강>주방용품>커피용품>우유거품기\n",
       "192         출산/육아>위생/건강용품>콧물흡입기>\n",
       "Name: cat_levels, Length: 193, dtype: object"
      ]
     },
     "execution_count": 4,
     "metadata": {},
     "output_type": "execute_result"
    }
   ],
   "source": [
    "category_df[\"cat_levels\"]"
   ]
  },
  {
   "cell_type": "code",
   "execution_count": 5,
   "metadata": {},
   "outputs": [
    {
     "name": "stdout",
     "output_type": "stream",
     "text": [
      "0, 디지털/가전>노트북>>\n"
     ]
    },
    {
     "name": "stderr",
     "output_type": "stream",
     "text": [
      "  4%|▍         | 4/100 [00:04<01:43,  1.07s/it]"
     ]
    }
   ],
   "source": [
    "crawl = Crawl_Naver_Shopping(list_type=\"가격비교\")\n",
    "crawl_result = crawl.get_product_infos_in_category(cat_ids = category_df[\"category_id\"].to_list(), cat_levels = category_df[\"cat_levels\"].to_list())"
   ]
  },
  {
   "cell_type": "code",
   "execution_count": 7,
   "metadata": {},
   "outputs": [],
   "source": [
    "pkl_list = [x for x in os.listdir(\"pickle/\") if \"pkl\" in x]"
   ]
  },
  {
   "cell_type": "code",
   "execution_count": 8,
   "metadata": {},
   "outputs": [],
   "source": [
    "for i, pkl in enumerate(pkl_list):\n",
    "    with open(f\"pickle/{pkl}\", \"rb\") as f:\n",
    "        if i == 0:\n",
    "            result = pd.DataFrame(pickle.load(f))\n",
    "        else:\n",
    "            temp = pd.DataFrame(pickle.load(f))\n",
    "            result = pd.concat([result, temp], axis = 0)"
   ]
  },
  {
   "cell_type": "code",
   "execution_count": 11,
   "metadata": {},
   "outputs": [],
   "source": [
    "crawl_df = pd.DataFrame(crawl_result)"
   ]
  },
  {
   "cell_type": "code",
   "execution_count": 12,
   "metadata": {},
   "outputs": [],
   "source": [
    "def extract_price_list(x):\n",
    "    if x is None:\n",
    "        return None\n",
    "    else:\n",
    "        return [mall_info.get(\"price\") for mall_info in x]"
   ]
  },
  {
   "cell_type": "code",
   "execution_count": 13,
   "metadata": {},
   "outputs": [
    {
     "data": {
      "text/plain": [
       "'10,000,000'"
      ]
     },
     "execution_count": 13,
     "metadata": {},
     "output_type": "execute_result"
    }
   ],
   "source": [
    "f\"{10000000:,}\""
   ]
  },
  {
   "cell_type": "code",
   "execution_count": 14,
   "metadata": {},
   "outputs": [],
   "source": [
    "crawl_df[\"price_list\"] = crawl_df[\"lowMallList\"].apply(extract_price_list)"
   ]
  },
  {
   "cell_type": "code",
   "execution_count": 15,
   "metadata": {},
   "outputs": [
    {
     "data": {
      "text/plain": [
       "'23.06.22'"
      ]
     },
     "execution_count": 15,
     "metadata": {},
     "output_type": "execute_result"
    }
   ],
   "source": [
    "\n",
    "from datetime import datetime\n",
    "today = datetime.today().strftime(\"%y.%m.%d\")\n",
    "today"
   ]
  },
  {
   "cell_type": "code",
   "execution_count": 16,
   "metadata": {},
   "outputs": [],
   "source": [
    "def add_price_attr(df):\n",
    "    if df[\"lowMallList\"] is not None:\n",
    "        price_list = [int(mall_info.get(\"price\")) for mall_info in df[\"lowMallList\"]]\n",
    "\n",
    "        new_product_attr = df[\"productAttr\"] + \" | \" + f\"가격 : {min(price_list):,} ~ {max(price_list):,} ({today} 기준)\"\n",
    "        return new_product_attr\n",
    "    else:\n",
    "        return df[\"productAttr\"]\n",
    "crawl_df[\"productAttr\"] = crawl_df.apply(add_price_attr, axis = 1)"
   ]
  },
  {
   "cell_type": "code",
   "execution_count": 31,
   "metadata": {},
   "outputs": [
    {
     "data": {
      "text/plain": [
       "(337080, 29)"
      ]
     },
     "execution_count": 31,
     "metadata": {},
     "output_type": "execute_result"
    }
   ],
   "source": [
    "crawl_df.shape"
   ]
  },
  {
   "cell_type": "code",
   "execution_count": 17,
   "metadata": {},
   "outputs": [],
   "source": [
    "crawl_df.to_excel(\"naver_shopping_230622.xlsx\")"
   ]
  },
  {
   "cell_type": "code",
   "execution_count": 20,
   "metadata": {},
   "outputs": [
    {
     "data": {
      "text/html": [
       "<div>\n",
       "<style scoped>\n",
       "    .dataframe tbody tr th:only-of-type {\n",
       "        vertical-align: middle;\n",
       "    }\n",
       "\n",
       "    .dataframe tbody tr th {\n",
       "        vertical-align: top;\n",
       "    }\n",
       "\n",
       "    .dataframe thead th {\n",
       "        text-align: right;\n",
       "    }\n",
       "</style>\n",
       "<table border=\"1\" class=\"dataframe\">\n",
       "  <thead>\n",
       "    <tr style=\"text-align: right;\">\n",
       "      <th></th>\n",
       "      <th>rank</th>\n",
       "      <th>id</th>\n",
       "      <th>scoreInfo</th>\n",
       "      <th>productName</th>\n",
       "      <th>overseaTp</th>\n",
       "      <th>saleTp</th>\n",
       "      <th>category1Id</th>\n",
       "      <th>category2Id</th>\n",
       "      <th>category3Id</th>\n",
       "      <th>category4Id</th>\n",
       "      <th>...</th>\n",
       "      <th>lnchYm</th>\n",
       "      <th>lowMallList</th>\n",
       "      <th>attributeValue</th>\n",
       "      <th>characterValue</th>\n",
       "      <th>crUrl</th>\n",
       "      <th>imageUrl</th>\n",
       "      <th>imageName</th>\n",
       "      <th>productAttr</th>\n",
       "      <th>searchCategoryId</th>\n",
       "      <th>price_list</th>\n",
       "    </tr>\n",
       "  </thead>\n",
       "  <tbody>\n",
       "    <tr>\n",
       "      <th>35</th>\n",
       "      <td>36</td>\n",
       "      <td>40498606618</td>\n",
       "      <td>NaN</td>\n",
       "      <td>27LX5QKNA</td>\n",
       "      <td>0</td>\n",
       "      <td>0</td>\n",
       "      <td>50000003</td>\n",
       "      <td>50000208</td>\n",
       "      <td>50001395</td>\n",
       "      <td>50002114</td>\n",
       "      <td>...</td>\n",
       "      <td>20230601</td>\n",
       "      <td>[{'nvMid': '40482053756', 'mallSeq': '613264',...</td>\n",
       "      <td>종류_M|TV화면크기_M|해상도_M|스마트_M|부가기능_M|부가기능_M|부가기능_M...</td>\n",
       "      <td>LED|68.58cm(27인치)|Full HD|음성인식|WiFi|블루투스5.0|HD...</td>\n",
       "      <td>https://cr.shopping.naver.com/adcr.nhn?x=7ClJQ...</td>\n",
       "      <td>https://shopping-phinf.pstatic.net/main_404986...</td>\n",
       "      <td>40498606618.20230609130229.jpg</td>\n",
       "      <td>종류 : LED | TV화면크기 : 68.58cm(27인치) | 해상도 : Full...</td>\n",
       "      <td>50001395</td>\n",
       "      <td>[2000000, 2820000]</td>\n",
       "    </tr>\n",
       "  </tbody>\n",
       "</table>\n",
       "<p>1 rows × 30 columns</p>\n",
       "</div>"
      ],
      "text/plain": [
       "    rank           id  scoreInfo productName overseaTp saleTp category1Id  \\\n",
       "35    36  40498606618        NaN   27LX5QKNA         0      0    50000003   \n",
       "\n",
       "   category2Id category3Id category4Id  ...    lnchYm  \\\n",
       "35    50000208    50001395    50002114  ...  20230601   \n",
       "\n",
       "                                          lowMallList  \\\n",
       "35  [{'nvMid': '40482053756', 'mallSeq': '613264',...   \n",
       "\n",
       "                                       attributeValue  \\\n",
       "35  종류_M|TV화면크기_M|해상도_M|스마트_M|부가기능_M|부가기능_M|부가기능_M...   \n",
       "\n",
       "                                       characterValue  \\\n",
       "35  LED|68.58cm(27인치)|Full HD|음성인식|WiFi|블루투스5.0|HD...   \n",
       "\n",
       "                                                crUrl  \\\n",
       "35  https://cr.shopping.naver.com/adcr.nhn?x=7ClJQ...   \n",
       "\n",
       "                                             imageUrl  \\\n",
       "35  https://shopping-phinf.pstatic.net/main_404986...   \n",
       "\n",
       "                         imageName  \\\n",
       "35  40498606618.20230609130229.jpg   \n",
       "\n",
       "                                          productAttr searchCategoryId  \\\n",
       "35  종류 : LED | TV화면크기 : 68.58cm(27인치) | 해상도 : Full...         50001395   \n",
       "\n",
       "            price_list  \n",
       "35  [2000000, 2820000]  \n",
       "\n",
       "[1 rows x 30 columns]"
      ]
     },
     "execution_count": 20,
     "metadata": {},
     "output_type": "execute_result"
    }
   ],
   "source": [
    "crawl_df.loc[crawl_df[\"productName\"].str.contains(\"27LX5QKNA\")]"
   ]
  },
  {
   "cell_type": "code",
   "execution_count": null,
   "metadata": {},
   "outputs": [],
   "source": [
    "# 스탠드 제품 코드 추가\n",
    "stand_ids = [\"50003330\", \"50003331\"]\n",
    "stand_levels = [[\"가구/인테리어\", \"조명/스탠드\", \"스탠드\", \"단스탠드\"], \n",
    " [\"가구/인테리어\", \"조명/스탠드\", \"스탠드\", \"장스탠드\"]]\n",
    "\n",
    "unq_category_ids.extend(stand_ids)\n",
    "unq_category_levels.extend(stand_levels)"
   ]
  },
  {
   "cell_type": "code",
   "execution_count": null,
   "metadata": {},
   "outputs": [],
   "source": [
    "category_list = [\"LEDTV\", \"OLEDTV\", \"LCDTV\", \"QLEDTV\", \"DLP\", \"LCD\", \"LCoS/기타\", \n",
    "\"퍼스널뷰어\", \"블루레이플레이어\", \"사운드바시스템\", \"단일형홈시어터\", \n",
    "\"조합형홈시어터\", \"일체형오디오\", \"스피커단품\", \"스피커세트\", \"블루투스스피커\", \n",
    "\"블루투스이어폰/이어셋\", \"블루투스헤드폰/헤드셋\", \"이어폰\", \"헤드폰\", \n",
    "\"일반세탁기\", \"드럼세탁기\", \"미니세탁기\", \"세탁기+건조기\", \"의류건조기\", \n",
    "\"신발건조기\", \"탈수기\", \"유선청소기\", \"무선청소기\", \"스팀청소기\", \n",
    "\"로봇청소기\", \"물걸레청소기\", \"연수기\", \"단스탠드\", \"장스탠드\", \"의류관리기\", \n",
    "\"스팀다리미\", \"보풀제거기\", \"전동칫솔\", \"구강세정기\", \"칫솔살균기\", \n",
    "\"전신건조기\", \"드라이어\", \"고데기\", \"매직기\", \"에어브러시\", \"남성용면도기\", \n",
    "\"여성용면도기\", \"두피케어기기\", \"제모기\", \"양문형냉장고\", \"일반형냉장고\", \n",
    "\"스탠드형\", \"냉동고\", \"와인냉장고\", \"화장품냉장고\", \"쌀냉장고\", \"제빙기\", \n",
    "\"일반가스레인지\", \"일반밥솥\", \"전자레인지\", \"전기오븐\", \"복합형오븐\", \"인덕션\",\n",
    "\"핫플레이트\", \"하이라이트\", \"하이브리드\", \"식기세척기\", \"식기건조기\", \"무선포트\", \n",
    "\"유선포트\", \"냉정수기\", \"냉온정수기\", \"에스프레소머신\", \"캡슐/POD머신\", \n",
    "\"팝업토스터기\", \"오븐토스터기\", \"음식물처리기\", \"제빵기\", \"거품/반죽기\", \n",
    "\"전기그릴\", \"생선그릴\", \"쥬서기/녹즙기\", \"핸드블렌더\", \"슬로우쿠커\", \"전기냄비\", \n",
    "\"전기찜기\", \"튀김기\", \"전기팬\", \"샌드위치제조기\", \"와플제조기\", \"탄산수제조기\", \n",
    "\"에어프라이어\", \"믹서기\", \"전기담요\", \"전기방석\", \"전기요\", \"황토매트\", \"카페트매트\", \n",
    "\"옥매트\", \"기타전기매트\", \"전기장판\", \"전기온풍기\", \"가스온풍기\", \"석유온풍기\", \"돈풍기\", \n",
    "\"가스보일러\", \"석유보일러\", \"전기보일러\", \"전기온수기\", \"가스온수기\", \"라디에이터\", \n",
    "\"컨벡터\", \"스탠드형에어컨\", \"벽걸이형에어컨\", \"멀티형에어컨\", \"창문형에어컨\", \"일반용제습기\", \n",
    "\"냉온풍기\", \"자연식가습기\", \"가열식가습기\", \"초음파식가습기\", \"복합식가습기\", \"공기청정기\", \n",
    "\"에어워셔\", \"일반용냉풍기\", \"스탠드형선풍기\", \"탁상형선풍기\", \"휴대용선풍기\", \"천장형선풍기\", \n",
    "\"전기히터\", \"석유히터\", \"가스히터\", \"연탄/화목난로\", \"안마의자\", \"안마기\"]\n",
    "print(f\"length of sample category list : {len(category_list)}\")"
   ]
  },
  {
   "cell_type": "code",
   "execution_count": null,
   "metadata": {},
   "outputs": [],
   "source": [
    "sample_cat_ids = [unq_category_ids[i] for i, x in enumerate(unq_category_levels) if x[-1] in category_list]\n",
    "print(f\"length of sample cat ids : {len(sample_cat_ids)}\")\n",
    "sample_cat_levels = [x for i, x in enumerate(unq_category_levels) if x[-1] in category_list]\n",
    "print(f\"length of sample cat levels : {len(sample_cat_levels)}\")"
   ]
  },
  {
   "cell_type": "code",
   "execution_count": null,
   "metadata": {},
   "outputs": [],
   "source": [
    "sample_cat_ids.extend(['50000151', '50000089', '50000088', '50000152'])\n",
    "sample_cat_levels.extend([\"['디지털/가전', '노트북']'\", \"['디지털/가전', 'PC']\", \"['디지털/가전', '게임기/타이틀']\", \"['디지털/가전', '태블릿PC']\"])\n",
    "print(f\"length of sample cat ids : {len(sample_cat_ids)}\")\n",
    "print(f\"length of sample cat levels : {len(sample_cat_levels)}\")"
   ]
  },
  {
   "cell_type": "code",
   "execution_count": null,
   "metadata": {},
   "outputs": [],
   "source": [
    "crawl = Crawl_Naver_Shopping(list_type=\"가격비교\")\n",
    "crawl_result = crawl.get_product_infos_in_category(cat_ids = unq_category_ids, cat_levels = unq_category_levels)"
   ]
  },
  {
   "cell_type": "code",
   "execution_count": null,
   "metadata": {},
   "outputs": [],
   "source": [
    "pd.DataFrame(crawl_result).to_excel(\"네이버_쇼핑_크롤링_220426.xlsx\", index =False)"
   ]
  },
  {
   "cell_type": "code",
   "execution_count": null,
   "metadata": {},
   "outputs": [],
   "source": [
    "light_stand_df = pd.read_excel(\"조명_스탠드_수집_220401.xlsx\")\n",
    "digital_df  = pd.read_excel(\"가전_디지털_220401.xlsx\")"
   ]
  },
  {
   "cell_type": "code",
   "execution_count": null,
   "metadata": {},
   "outputs": [],
   "source": [
    "product_data = pd.concat([digital_df.drop_duplicates(\"id\"), light_stand_df.drop_duplicates(\"id\")], axis = 0)"
   ]
  },
  {
   "cell_type": "code",
   "execution_count": null,
   "metadata": {},
   "outputs": [],
   "source": [
    "# pd_crawl_result = pd.DataFrame(crawl_result)\n",
    "product_data = product_data[['searchCategoryId', 'searchCategoryName', 'id', 'productName', 'scoreInfo', 'category1Id', 'category2Id',\n",
    "                             'category3Id', 'category4Id', 'category1Name', 'category2Name',\n",
    "                             'category3Name', 'category4Name', 'maker', 'makerNo', 'brand',\n",
    "                             'brandNo', 'price', 'priceUnit', 'lnchYm', 'productAttr', 'imageName', 'crUrl', 'imageUrl']]"
   ]
  },
  {
   "cell_type": "code",
   "execution_count": null,
   "metadata": {},
   "outputs": [],
   "source": [
    "product_data.to_excel(\"네이버_쇼핑_크롤링_220404.xlsx\", index = False)"
   ]
  }
 ],
 "metadata": {
  "kernelspec": {
   "display_name": "Python 3.10.4 64-bit",
   "language": "python",
   "name": "python3"
  },
  "language_info": {
   "codemirror_mode": {
    "name": "ipython",
    "version": 3
   },
   "file_extension": ".py",
   "mimetype": "text/x-python",
   "name": "python",
   "nbconvert_exporter": "python",
   "pygments_lexer": "ipython3",
   "version": "3.10.4"
  },
  "orig_nbformat": 4,
  "vscode": {
   "interpreter": {
    "hash": "916dbcbb3f70747c44a77c7bcd40155683ae19c65e1c03b4aa3499c5328201f1"
   }
  }
 },
 "nbformat": 4,
 "nbformat_minor": 2
}
