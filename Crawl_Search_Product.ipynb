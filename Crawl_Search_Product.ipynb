{
 "cells": [
  {
   "cell_type": "code",
   "execution_count": 1,
   "metadata": {},
   "outputs": [],
   "source": [
    "%load_ext autoreload\n",
    "%autoreload 2\n",
    "from Crawl_Naver_Shopping import *\n",
    "import pickle\n",
    "from lxml import etree\n",
    "import urllib3\n",
    "\n",
    "urllib3.disable_warnings(urllib3.exceptions.InsecureRequestWarning)"
   ]
  },
  {
   "cell_type": "code",
   "execution_count": 12,
   "metadata": {},
   "outputs": [],
   "source": [
    "temp_product = pd.read_excel(\"temp_product_230629.xlsx\")"
   ]
  },
  {
   "cell_type": "code",
   "execution_count": 13,
   "metadata": {},
   "outputs": [],
   "source": [
    "temp_product[\"search_queries\"] = temp_product[\"product_name\"] + \" \" + temp_product[\"manufacturer_name\"] + \" \" + temp_product[\"product_model_name\"]"
   ]
  },
  {
   "cell_type": "code",
   "execution_count": null,
   "metadata": {},
   "outputs": [],
   "source": []
  },
  {
   "cell_type": "code",
   "execution_count": 14,
   "metadata": {},
   "outputs": [],
   "source": [
    "search_queries = temp_product[\"product_name\"] + \" \" + temp_product[\"manufacturer_name\"] + \" \" + temp_product[\"product_model_name\"]\n",
    "search_queries = search_queries.loc[~search_queries.isna()]"
   ]
  },
  {
   "cell_type": "code",
   "execution_count": 15,
   "metadata": {},
   "outputs": [
    {
     "name": "stdout",
     "output_type": "stream",
     "text": [
      "6 : LG 토스트 겸용 전자레인지 LG MD 273CC\n"
     ]
    },
    {
     "name": "stderr",
     "output_type": "stream",
     "text": [
      "0it [00:00, ?it/s]\n"
     ]
    },
    {
     "name": "stdout",
     "output_type": "stream",
     "text": [
      "7 : 전기오븐기기 (에어프라이어) 매직쉐프 MEA-T1200WB\n"
     ]
    },
    {
     "name": "stderr",
     "output_type": "stream",
     "text": [
      "0it [00:00, ?it/s]\n"
     ]
    },
    {
     "name": "stdout",
     "output_type": "stream",
     "text": [
      "8 : 이엠케이 15L 제습기 emk EDH-15G\n"
     ]
    },
    {
     "name": "stderr",
     "output_type": "stream",
     "text": [
      "0it [00:00, ?it/s]\n"
     ]
    },
    {
     "name": "stdout",
     "output_type": "stream",
     "text": [
      "9 : GE 냉장고 GE PSK27NHSCCWW\n"
     ]
    },
    {
     "ename": "KeyboardInterrupt",
     "evalue": "",
     "output_type": "error",
     "traceback": [
      "\u001b[0;31m---------------------------------------------------------------------------\u001b[0m",
      "\u001b[0;31mKeyboardInterrupt\u001b[0m                         Traceback (most recent call last)",
      "\u001b[1;32m/home/seho/Naver_Shopping_Crawl/Crawl_Search_Product.ipynb 셀 6\u001b[0m in \u001b[0;36m<cell line: 2>\u001b[0;34m()\u001b[0m\n\u001b[1;32m      <a href='vscode-notebook-cell://wsl%2Bubuntu-22.04/home/seho/Naver_Shopping_Crawl/Crawl_Search_Product.ipynb#W5sdnNjb2RlLXJlbW90ZQ%3D%3D?line=0'>1</a>\u001b[0m total_crawl \u001b[39m=\u001b[39m Crawl_Naver_Shopping(list_type\u001b[39m=\u001b[39m\u001b[39m\"\u001b[39m\u001b[39m전체\u001b[39m\u001b[39m\"\u001b[39m)\n\u001b[0;32m----> <a href='vscode-notebook-cell://wsl%2Bubuntu-22.04/home/seho/Naver_Shopping_Crawl/Crawl_Search_Product.ipynb#W5sdnNjb2RlLXJlbW90ZQ%3D%3D?line=1'>2</a>\u001b[0m total_crawl_result \u001b[39m=\u001b[39m total_crawl\u001b[39m.\u001b[39;49mget_product_infos_from_query(queries \u001b[39m=\u001b[39;49m search_queries\u001b[39m.\u001b[39;49mto_list(), collect_num \u001b[39m=\u001b[39;49m \u001b[39m1\u001b[39;49m, image_save \u001b[39m=\u001b[39;49m \u001b[39mFalse\u001b[39;49;00m, temp_product_ids \u001b[39m=\u001b[39;49m temp_product[\u001b[39m\"\u001b[39;49m\u001b[39mtemp_product_id\u001b[39;49m\u001b[39m\"\u001b[39;49m])\n\u001b[1;32m      <a href='vscode-notebook-cell://wsl%2Bubuntu-22.04/home/seho/Naver_Shopping_Crawl/Crawl_Search_Product.ipynb#W5sdnNjb2RlLXJlbW90ZQ%3D%3D?line=3'>4</a>\u001b[0m price_compare_crawl \u001b[39m=\u001b[39m Crawl_Naver_Shopping(list_type\u001b[39m=\u001b[39m\u001b[39m\"\u001b[39m\u001b[39m가격비교\u001b[39m\u001b[39m\"\u001b[39m)\n\u001b[1;32m      <a href='vscode-notebook-cell://wsl%2Bubuntu-22.04/home/seho/Naver_Shopping_Crawl/Crawl_Search_Product.ipynb#W5sdnNjb2RlLXJlbW90ZQ%3D%3D?line=4'>5</a>\u001b[0m price_compare_crawl_result \u001b[39m=\u001b[39m price_compare_crawl\u001b[39m.\u001b[39mget_product_infos_from_query(queries \u001b[39m=\u001b[39m search_queries\u001b[39m.\u001b[39mto_list(), collect_num \u001b[39m=\u001b[39m \u001b[39m1\u001b[39m, image_save \u001b[39m=\u001b[39m \u001b[39mFalse\u001b[39;00m, temp_product_ids \u001b[39m=\u001b[39m temp_product[\u001b[39m\"\u001b[39m\u001b[39mtemp_product_id\u001b[39m\u001b[39m\"\u001b[39m])\n",
      "File \u001b[0;32m~/Naver_Shopping_Crawl/Crawl_Naver_Shopping.py:458\u001b[0m, in \u001b[0;36mCrawl_Naver_Shopping.get_product_infos_from_query\u001b[0;34m(self, queries, collect_num, image_save, temp_product_ids)\u001b[0m\n\u001b[1;32m    456\u001b[0m \u001b[39mfor\u001b[39;00m i, query \u001b[39min\u001b[39;00m \u001b[39menumerate\u001b[39m(queries):\n\u001b[1;32m    457\u001b[0m     \u001b[39mprint\u001b[39m(\u001b[39mf\u001b[39m\u001b[39m\"\u001b[39m\u001b[39m{\u001b[39;00mi\u001b[39m+\u001b[39m\u001b[39m1\u001b[39m\u001b[39m}\u001b[39;00m\u001b[39m : \u001b[39m\u001b[39m{\u001b[39;00mquery\u001b[39m}\u001b[39;00m\u001b[39m\"\u001b[39m)\n\u001b[0;32m--> 458\u001b[0m     time\u001b[39m.\u001b[39;49msleep(random\u001b[39m.\u001b[39;49mrandom()\u001b[39m*\u001b[39;49m\u001b[39m1.5\u001b[39;49m)\n\u001b[1;32m    459\u001b[0m     \u001b[39m# request의 parameter로 넣기 위한 params와 header를 생성\u001b[39;00m\n\u001b[1;32m    460\u001b[0m     initial_params \u001b[39m=\u001b[39m \u001b[39mself\u001b[39m\u001b[39m.\u001b[39mcreate_params(idx\u001b[39m=\u001b[39m\u001b[39m1\u001b[39m, page_size\u001b[39m=\u001b[39m\u001b[39m40\u001b[39m, query\u001b[39m=\u001b[39mquery)\n",
      "\u001b[0;31mKeyboardInterrupt\u001b[0m: "
     ]
    }
   ],
   "source": [
    "total_crawl = Crawl_Naver_Shopping(list_type=\"전체\")\n",
    "total_crawl_result = total_crawl.get_product_infos_from_query(queries = search_queries.to_list(), collect_num = 1, image_save = False, temp_product_ids = temp_product[\"temp_product_id\"])\n",
    "\n",
    "price_compare_crawl = Crawl_Naver_Shopping(list_type=\"가격비교\")\n",
    "price_compare_crawl_result = price_compare_crawl.get_product_infos_from_query(queries = search_queries.to_list(), collect_num = 1, image_save = False, temp_product_ids = temp_product[\"temp_product_id\"])"
   ]
  },
  {
   "cell_type": "code",
   "execution_count": 8,
   "metadata": {},
   "outputs": [],
   "source": [
    "total = pd.DataFrame(total_crawl_result)\n",
    "price_compare = pd.DataFrame(price_compare_crawl_result)"
   ]
  },
  {
   "cell_type": "code",
   "execution_count": 9,
   "metadata": {},
   "outputs": [],
   "source": [
    "price_compare[\"type\"] = \"price_compare\"\n",
    "total[\"type\"] = \"total\""
   ]
  },
  {
   "cell_type": "code",
   "execution_count": 10,
   "metadata": {},
   "outputs": [],
   "source": [
    "result = pd.concat([price_compare, total], axis = 0)"
   ]
  },
  {
   "cell_type": "code",
   "execution_count": 11,
   "metadata": {},
   "outputs": [],
   "source": [
    "result.to_excel(\"temp_product_naver_shopping_search_230623.xlsx\", index = False)"
   ]
  },
  {
   "cell_type": "code",
   "execution_count": 25,
   "metadata": {},
   "outputs": [],
   "source": [
    "result = result.sort_values(\"query\")"
   ]
  },
  {
   "cell_type": "code",
   "execution_count": 13,
   "metadata": {},
   "outputs": [],
   "source": [
    "result = pd.merge(result, temp_product[[\"search_queries\", \"temp_product_id\"]], left_on = \"query\", right_on = \"search_queries\", how =\"left\")"
   ]
  },
  {
   "cell_type": "code",
   "execution_count": 27,
   "metadata": {},
   "outputs": [],
   "source": [
    "result.to_excel(\"temp_product_naver_shopping_search_230601.xlsx\", index = False)"
   ]
  },
  {
   "cell_type": "code",
   "execution_count": 19,
   "metadata": {},
   "outputs": [
    {
     "data": {
      "text/html": [
       "<div>\n",
       "<style scoped>\n",
       "    .dataframe tbody tr th:only-of-type {\n",
       "        vertical-align: middle;\n",
       "    }\n",
       "\n",
       "    .dataframe tbody tr th {\n",
       "        vertical-align: top;\n",
       "    }\n",
       "\n",
       "    .dataframe thead th {\n",
       "        text-align: right;\n",
       "    }\n",
       "</style>\n",
       "<table border=\"1\" class=\"dataframe\">\n",
       "  <thead>\n",
       "    <tr style=\"text-align: right;\">\n",
       "      <th></th>\n",
       "      <th>index</th>\n",
       "      <th>count</th>\n",
       "    </tr>\n",
       "  </thead>\n",
       "  <tbody>\n",
       "    <tr>\n",
       "      <th>0</th>\n",
       "      <td>2124</td>\n",
       "      <td>4</td>\n",
       "    </tr>\n",
       "    <tr>\n",
       "      <th>1</th>\n",
       "      <td>2112</td>\n",
       "      <td>4</td>\n",
       "    </tr>\n",
       "    <tr>\n",
       "      <th>2</th>\n",
       "      <td>1851</td>\n",
       "      <td>2</td>\n",
       "    </tr>\n",
       "    <tr>\n",
       "      <th>3</th>\n",
       "      <td>2024</td>\n",
       "      <td>2</td>\n",
       "    </tr>\n",
       "    <tr>\n",
       "      <th>4</th>\n",
       "      <td>2045</td>\n",
       "      <td>2</td>\n",
       "    </tr>\n",
       "    <tr>\n",
       "      <th>...</th>\n",
       "      <td>...</td>\n",
       "      <td>...</td>\n",
       "    </tr>\n",
       "    <tr>\n",
       "      <th>58</th>\n",
       "      <td>1952</td>\n",
       "      <td>2</td>\n",
       "    </tr>\n",
       "    <tr>\n",
       "      <th>59</th>\n",
       "      <td>1951</td>\n",
       "      <td>2</td>\n",
       "    </tr>\n",
       "    <tr>\n",
       "      <th>60</th>\n",
       "      <td>1950</td>\n",
       "      <td>2</td>\n",
       "    </tr>\n",
       "    <tr>\n",
       "      <th>61</th>\n",
       "      <td>1959</td>\n",
       "      <td>2</td>\n",
       "    </tr>\n",
       "    <tr>\n",
       "      <th>62</th>\n",
       "      <td>1949</td>\n",
       "      <td>2</td>\n",
       "    </tr>\n",
       "  </tbody>\n",
       "</table>\n",
       "<p>63 rows × 2 columns</p>\n",
       "</div>"
      ],
      "text/plain": [
       "    index  count\n",
       "0    2124      4\n",
       "1    2112      4\n",
       "2    1851      2\n",
       "3    2024      2\n",
       "4    2045      2\n",
       "..    ...    ...\n",
       "58   1952      2\n",
       "59   1951      2\n",
       "60   1950      2\n",
       "61   1959      2\n",
       "62   1949      2\n",
       "\n",
       "[63 rows x 2 columns]"
      ]
     },
     "execution_count": 19,
     "metadata": {},
     "output_type": "execute_result"
    }
   ],
   "source": [
    "temp = result[\"temp_product_id\"].value_counts().to_frame(\"count\").reset_index()\n",
    "temp.loc[temp[\"count\"]> 1]"
   ]
  },
  {
   "cell_type": "code",
   "execution_count": 23,
   "metadata": {},
   "outputs": [
    {
     "data": {
      "text/html": [
       "<div>\n",
       "<style scoped>\n",
       "    .dataframe tbody tr th:only-of-type {\n",
       "        vertical-align: middle;\n",
       "    }\n",
       "\n",
       "    .dataframe tbody tr th {\n",
       "        vertical-align: top;\n",
       "    }\n",
       "\n",
       "    .dataframe thead th {\n",
       "        text-align: right;\n",
       "    }\n",
       "</style>\n",
       "<table border=\"1\" class=\"dataframe\">\n",
       "  <thead>\n",
       "    <tr style=\"text-align: right;\">\n",
       "      <th></th>\n",
       "      <th>rank</th>\n",
       "      <th>id</th>\n",
       "      <th>scoreInfo</th>\n",
       "      <th>productName</th>\n",
       "      <th>overseaTp</th>\n",
       "      <th>saleTp</th>\n",
       "      <th>category1Id</th>\n",
       "      <th>category2Id</th>\n",
       "      <th>category3Id</th>\n",
       "      <th>category4Id</th>\n",
       "      <th>...</th>\n",
       "      <th>attributeValue</th>\n",
       "      <th>characterValue</th>\n",
       "      <th>crUrl</th>\n",
       "      <th>imageUrl</th>\n",
       "      <th>imageName</th>\n",
       "      <th>productAttr</th>\n",
       "      <th>query</th>\n",
       "      <th>type</th>\n",
       "      <th>search_queries</th>\n",
       "      <th>temp_product_id</th>\n",
       "    </tr>\n",
       "  </thead>\n",
       "  <tbody>\n",
       "    <tr>\n",
       "      <th>58</th>\n",
       "      <td>1</td>\n",
       "      <td>32693010618</td>\n",
       "      <td>4.7</td>\n",
       "      <td>FLX-254D</td>\n",
       "      <td>0</td>\n",
       "      <td>0</td>\n",
       "      <td>50000003</td>\n",
       "      <td>50000212</td>\n",
       "      <td>50001420</td>\n",
       "      <td>50002513</td>\n",
       "      <td>...</td>\n",
       "      <td>모터_M|바람세기_M|바람모드_M|바람모드_M|형태_M|날개특징_M|리모컨_M|부가...</td>\n",
       "      <td>BLDC모터(브러시리스)|4단|수면풍|리듬풍|접이식|7엽날개|자석부착형|높이조절|저...</td>\n",
       "      <td>https://cr.shopping.naver.com/adcr.nhn?x=yrh8t...</td>\n",
       "      <td>https://shopping-phinf.pstatic.net/main_326930...</td>\n",
       "      <td>32693010618.20220601111048.jpg</td>\n",
       "      <td>모터 : BLDC모터(브러시리스) | 바람세기 : 4단 | 바람모드 : 수면풍, 리...</td>\n",
       "      <td>cico  254D 시코코리아 시코코리아</td>\n",
       "      <td>price_compare</td>\n",
       "      <td>cico  254D 시코코리아 시코코리아</td>\n",
       "      <td>2112</td>\n",
       "    </tr>\n",
       "    <tr>\n",
       "      <th>62</th>\n",
       "      <td>1</td>\n",
       "      <td>32693010618</td>\n",
       "      <td>4.7</td>\n",
       "      <td>FLX-254D</td>\n",
       "      <td>0</td>\n",
       "      <td>0</td>\n",
       "      <td>50000003</td>\n",
       "      <td>50000212</td>\n",
       "      <td>50001420</td>\n",
       "      <td>50002513</td>\n",
       "      <td>...</td>\n",
       "      <td>모터_M|바람세기_M|바람모드_M|바람모드_M|형태_M|날개특징_M|리모컨_M|부가...</td>\n",
       "      <td>BLDC모터(브러시리스)|4단|수면풍|리듬풍|접이식|7엽날개|자석부착형|높이조절|저...</td>\n",
       "      <td>https://cr.shopping.naver.com/adcr.nhn?x=OXa%2...</td>\n",
       "      <td>https://shopping-phinf.pstatic.net/main_326930...</td>\n",
       "      <td>32693010618.20220601111048.jpg</td>\n",
       "      <td>모터 : BLDC모터(브러시리스) | 바람세기 : 4단 | 바람모드 : 수면풍, 리...</td>\n",
       "      <td>cico  254D 시코코리아 시코코리아</td>\n",
       "      <td>price_compare</td>\n",
       "      <td>cico  254D 시코코리아 시코코리아</td>\n",
       "      <td>2112</td>\n",
       "    </tr>\n",
       "    <tr>\n",
       "      <th>177</th>\n",
       "      <td>1</td>\n",
       "      <td>39398646496</td>\n",
       "      <td>NaN</td>\n",
       "      <td>시코(청소기) cico 접이형 폴딩팬 254D (접이식 캠핑용 선풍기) 화이트</td>\n",
       "      <td>0</td>\n",
       "      <td>0</td>\n",
       "      <td>50000003</td>\n",
       "      <td>50000212</td>\n",
       "      <td>50001420</td>\n",
       "      <td>50002519</td>\n",
       "      <td>...</td>\n",
       "      <td></td>\n",
       "      <td></td>\n",
       "      <td>https://cr.shopping.naver.com/adcr.nhn?x=LrhiU...</td>\n",
       "      <td>https://shopping-phinf.pstatic.net/main_393986...</td>\n",
       "      <td>39398646496.jpg</td>\n",
       "      <td>:</td>\n",
       "      <td>cico  254D 시코코리아 시코코리아</td>\n",
       "      <td>total</td>\n",
       "      <td>cico  254D 시코코리아 시코코리아</td>\n",
       "      <td>2112</td>\n",
       "    </tr>\n",
       "    <tr>\n",
       "      <th>183</th>\n",
       "      <td>1</td>\n",
       "      <td>39398646496</td>\n",
       "      <td>NaN</td>\n",
       "      <td>시코(청소기) cico 접이형 폴딩팬 254D (접이식 캠핑용 선풍기) 화이트</td>\n",
       "      <td>0</td>\n",
       "      <td>0</td>\n",
       "      <td>50000003</td>\n",
       "      <td>50000212</td>\n",
       "      <td>50001420</td>\n",
       "      <td>50002519</td>\n",
       "      <td>...</td>\n",
       "      <td></td>\n",
       "      <td></td>\n",
       "      <td>https://cr.shopping.naver.com/adcr.nhn?x=iBi28...</td>\n",
       "      <td>https://shopping-phinf.pstatic.net/main_393986...</td>\n",
       "      <td>39398646496.jpg</td>\n",
       "      <td>:</td>\n",
       "      <td>cico  254D 시코코리아 시코코리아</td>\n",
       "      <td>total</td>\n",
       "      <td>cico  254D 시코코리아 시코코리아</td>\n",
       "      <td>2112</td>\n",
       "    </tr>\n",
       "  </tbody>\n",
       "</table>\n",
       "<p>4 rows × 32 columns</p>\n",
       "</div>"
      ],
      "text/plain": [
       "     rank           id  scoreInfo  \\\n",
       "58      1  32693010618        4.7   \n",
       "62      1  32693010618        4.7   \n",
       "177     1  39398646496        NaN   \n",
       "183     1  39398646496        NaN   \n",
       "\n",
       "                                     productName overseaTp saleTp category1Id  \\\n",
       "58                                      FLX-254D         0      0    50000003   \n",
       "62                                      FLX-254D         0      0    50000003   \n",
       "177  시코(청소기) cico 접이형 폴딩팬 254D (접이식 캠핑용 선풍기) 화이트         0      0    50000003   \n",
       "183  시코(청소기) cico 접이형 폴딩팬 254D (접이식 캠핑용 선풍기) 화이트         0      0    50000003   \n",
       "\n",
       "    category2Id category3Id category4Id  ...  \\\n",
       "58     50000212    50001420    50002513  ...   \n",
       "62     50000212    50001420    50002513  ...   \n",
       "177    50000212    50001420    50002519  ...   \n",
       "183    50000212    50001420    50002519  ...   \n",
       "\n",
       "                                        attributeValue  \\\n",
       "58   모터_M|바람세기_M|바람모드_M|바람모드_M|형태_M|날개특징_M|리모컨_M|부가...   \n",
       "62   모터_M|바람세기_M|바람모드_M|바람모드_M|형태_M|날개특징_M|리모컨_M|부가...   \n",
       "177                                                      \n",
       "183                                                      \n",
       "\n",
       "                                        characterValue  \\\n",
       "58   BLDC모터(브러시리스)|4단|수면풍|리듬풍|접이식|7엽날개|자석부착형|높이조절|저...   \n",
       "62   BLDC모터(브러시리스)|4단|수면풍|리듬풍|접이식|7엽날개|자석부착형|높이조절|저...   \n",
       "177                                                      \n",
       "183                                                      \n",
       "\n",
       "                                                 crUrl  \\\n",
       "58   https://cr.shopping.naver.com/adcr.nhn?x=yrh8t...   \n",
       "62   https://cr.shopping.naver.com/adcr.nhn?x=OXa%2...   \n",
       "177  https://cr.shopping.naver.com/adcr.nhn?x=LrhiU...   \n",
       "183  https://cr.shopping.naver.com/adcr.nhn?x=iBi28...   \n",
       "\n",
       "                                              imageUrl  \\\n",
       "58   https://shopping-phinf.pstatic.net/main_326930...   \n",
       "62   https://shopping-phinf.pstatic.net/main_326930...   \n",
       "177  https://shopping-phinf.pstatic.net/main_393986...   \n",
       "183  https://shopping-phinf.pstatic.net/main_393986...   \n",
       "\n",
       "                          imageName  \\\n",
       "58   32693010618.20220601111048.jpg   \n",
       "62   32693010618.20220601111048.jpg   \n",
       "177                 39398646496.jpg   \n",
       "183                 39398646496.jpg   \n",
       "\n",
       "                                           productAttr  \\\n",
       "58   모터 : BLDC모터(브러시리스) | 바람세기 : 4단 | 바람모드 : 수면풍, 리...   \n",
       "62   모터 : BLDC모터(브러시리스) | 바람세기 : 4단 | 바람모드 : 수면풍, 리...   \n",
       "177                                                 :    \n",
       "183                                                 :    \n",
       "\n",
       "                      query           type          search_queries  \\\n",
       "58   cico  254D 시코코리아 시코코리아  price_compare  cico  254D 시코코리아 시코코리아   \n",
       "62   cico  254D 시코코리아 시코코리아  price_compare  cico  254D 시코코리아 시코코리아   \n",
       "177  cico  254D 시코코리아 시코코리아          total  cico  254D 시코코리아 시코코리아   \n",
       "183  cico  254D 시코코리아 시코코리아          total  cico  254D 시코코리아 시코코리아   \n",
       "\n",
       "    temp_product_id  \n",
       "58             2112  \n",
       "62             2112  \n",
       "177            2112  \n",
       "183            2112  \n",
       "\n",
       "[4 rows x 32 columns]"
      ]
     },
     "execution_count": 23,
     "metadata": {},
     "output_type": "execute_result"
    }
   ],
   "source": [
    "result.loc[result[\"temp_product_id\"] == 2112]"
   ]
  }
 ],
 "metadata": {
  "kernelspec": {
   "display_name": "Python 3.10.4 64-bit",
   "language": "python",
   "name": "python3"
  },
  "language_info": {
   "codemirror_mode": {
    "name": "ipython",
    "version": 3
   },
   "file_extension": ".py",
   "mimetype": "text/x-python",
   "name": "python",
   "nbconvert_exporter": "python",
   "pygments_lexer": "ipython3",
   "version": "3.10.4"
  },
  "orig_nbformat": 4,
  "vscode": {
   "interpreter": {
    "hash": "916dbcbb3f70747c44a77c7bcd40155683ae19c65e1c03b4aa3499c5328201f1"
   }
  }
 },
 "nbformat": 4,
 "nbformat_minor": 2
}
